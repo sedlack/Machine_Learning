{
 "cells": [
  {
   "cell_type": "markdown",
   "id": "1bca9f63",
   "metadata": {},
   "source": [
    "# Support Vector Machine Classification\n",
    "\n",
    "- Support Vector Machine attempts to classify various datapoints through the discovery of a hyperplane that maximizes the margin denoted as p between the various groups present in the data. The margin is calculated as the distance between the support vectors and the decision boundary. If linear  separability is not possible in the original data, the features can be mapped to a higher dimensional representation in an attempt to discover a clear decision boundary."
   ]
  },
  {
   "cell_type": "markdown",
   "id": "83f7f7de",
   "metadata": {},
   "source": [
    "### Import Required Packages"
   ]
  },
  {
   "cell_type": "code",
   "execution_count": 12,
   "id": "ddad885b",
   "metadata": {},
   "outputs": [],
   "source": [
    "import numpy as np\n",
    "from sklearn.svm import SVC\n",
    "import pandas as pd\n",
    "import seaborn as sns\n",
    "import matplotlib.pyplot as plt\n",
    "from sklearn.model_selection import GridSearchCV, cross_val_score\n",
    "from sklearn.model_selection import KFold\n",
    "from sklearn.model_selection import train_test_split\n",
    "from sklearn.metrics import confusion_matrix\n",
    "from sklearn.metrics import precision_score\n",
    "from sklearn.metrics import recall_score"
   ]
  },
  {
   "cell_type": "markdown",
   "id": "4092ce0f",
   "metadata": {},
   "source": [
    "### Load in the Data"
   ]
  },
  {
   "cell_type": "code",
   "execution_count": 2,
   "id": "446f092f",
   "metadata": {},
   "outputs": [
    {
     "data": {
      "text/html": [
       "<div>\n",
       "<style scoped>\n",
       "    .dataframe tbody tr th:only-of-type {\n",
       "        vertical-align: middle;\n",
       "    }\n",
       "\n",
       "    .dataframe tbody tr th {\n",
       "        vertical-align: top;\n",
       "    }\n",
       "\n",
       "    .dataframe thead th {\n",
       "        text-align: right;\n",
       "    }\n",
       "</style>\n",
       "<table border=\"1\" class=\"dataframe\">\n",
       "  <thead>\n",
       "    <tr style=\"text-align: right;\">\n",
       "      <th></th>\n",
       "      <th>Petal_Length</th>\n",
       "      <th>Petal_Width</th>\n",
       "      <th>Sepal_Length</th>\n",
       "      <th>Sepal_Width</th>\n",
       "      <th>Species</th>\n",
       "    </tr>\n",
       "  </thead>\n",
       "  <tbody>\n",
       "    <tr>\n",
       "      <th>0</th>\n",
       "      <td>5.1</td>\n",
       "      <td>3.5</td>\n",
       "      <td>1.4</td>\n",
       "      <td>0.2</td>\n",
       "      <td>0</td>\n",
       "    </tr>\n",
       "    <tr>\n",
       "      <th>1</th>\n",
       "      <td>4.9</td>\n",
       "      <td>3.0</td>\n",
       "      <td>1.4</td>\n",
       "      <td>0.2</td>\n",
       "      <td>0</td>\n",
       "    </tr>\n",
       "    <tr>\n",
       "      <th>2</th>\n",
       "      <td>4.7</td>\n",
       "      <td>3.2</td>\n",
       "      <td>1.3</td>\n",
       "      <td>0.2</td>\n",
       "      <td>0</td>\n",
       "    </tr>\n",
       "    <tr>\n",
       "      <th>3</th>\n",
       "      <td>4.6</td>\n",
       "      <td>3.1</td>\n",
       "      <td>1.5</td>\n",
       "      <td>0.2</td>\n",
       "      <td>0</td>\n",
       "    </tr>\n",
       "    <tr>\n",
       "      <th>4</th>\n",
       "      <td>5.0</td>\n",
       "      <td>3.6</td>\n",
       "      <td>1.4</td>\n",
       "      <td>0.2</td>\n",
       "      <td>0</td>\n",
       "    </tr>\n",
       "  </tbody>\n",
       "</table>\n",
       "</div>"
      ],
      "text/plain": [
       "   Petal_Length  Petal_Width  Sepal_Length  Sepal_Width  Species\n",
       "0           5.1          3.5           1.4          0.2        0\n",
       "1           4.9          3.0           1.4          0.2        0\n",
       "2           4.7          3.2           1.3          0.2        0\n",
       "3           4.6          3.1           1.5          0.2        0\n",
       "4           5.0          3.6           1.4          0.2        0"
      ]
     },
     "execution_count": 2,
     "metadata": {},
     "output_type": "execute_result"
    }
   ],
   "source": [
    "iris = pd.read_csv('iris_sklearn_data.csv') # data was obtianed via sklearn\n",
    "\n",
    "# Visualize the dataframe\n",
    "iris.head()"
   ]
  },
  {
   "cell_type": "code",
   "execution_count": 3,
   "id": "5f3fc871",
   "metadata": {},
   "outputs": [],
   "source": [
    "# Seperate the Features from the Labels\n",
    "X = iris[['Petal_Length', 'Petal_Width', 'Sepal_Length', 'Sepal_Width']]\n",
    "y = iris['Species']"
   ]
  },
  {
   "cell_type": "markdown",
   "id": "518db148",
   "metadata": {},
   "source": [
    "### Cross Validation Via Gridsearch"
   ]
  },
  {
   "cell_type": "code",
   "execution_count": 5,
   "id": "eda2d3e0",
   "metadata": {},
   "outputs": [],
   "source": [
    "# Specify the cross validation splits and scoring metric to determine the best model parameters\n",
    "inner_cv = KFold(n_splits = 4, shuffle = True, random_state = 0)\n",
    "outer_cv = KFold(n_splits = 4, shuffle = True, random_state = 0)\n",
    "scoring = 'accuracy'"
   ]
  },
  {
   "cell_type": "code",
   "execution_count": 6,
   "id": "60a3e234",
   "metadata": {},
   "outputs": [
    {
     "name": "stdout",
     "output_type": "stream",
     "text": [
      "Four Nested Scores (Accuracy)\n",
      "[0.97368421 0.94736842 1.         0.97297297]\n",
      "Average Accuracy: 0.9735064011379801\n"
     ]
    }
   ],
   "source": [
    "# Inialize the SVM model\n",
    "svm = SVC()\n",
    "\n",
    "# Specify the parameters you would like the gridsearch to attempt\n",
    "parameters = {'C': [0.1, 0.2, 0.3, 0.4, 0.5], \n",
    "              'kernel': ['linear', 'poly', 'rbf', 'sigmoid']}\n",
    "\n",
    "# Specify the SVM with the range of parameters to discover the best model\n",
    "svm_clf = GridSearchCV(estimator = svm, param_grid = parameters, scoring = scoring, cv = inner_cv)\n",
    "\n",
    "# Score the best model accross all four splits created by the outer cross validation layer\n",
    "nested_scores = cross_val_score(estimator = svm_clf, X = X, y = y, cv = outer_cv)\n",
    "\n",
    "# Display all of the scores obtained\n",
    "print('Four Nested Scores (Accuracy)')\n",
    "print(nested_scores)\n",
    "\n",
    "# Calculate the average score across all of the validation splits\n",
    "avg_score = nested_scores.mean()\n",
    "print('Average Accuracy: {}' .format(avg_score))"
   ]
  },
  {
   "cell_type": "markdown",
   "id": "dc7b3eb3",
   "metadata": {},
   "source": [
    "### Evaluate the Best Model"
   ]
  },
  {
   "cell_type": "code",
   "execution_count": 9,
   "id": "b666212f",
   "metadata": {},
   "outputs": [
    {
     "data": {
      "text/plain": [
       "{'C': 0.1, 'kernel': 'poly'}"
      ]
     },
     "execution_count": 9,
     "metadata": {},
     "output_type": "execute_result"
    }
   ],
   "source": [
    "# Display the best parameters discovered\n",
    "X_train, X_test, y_train, y_test = train_test_split(X, y, test_size=0.20, random_state=42)\n",
    "\n",
    "svm_clf.fit(X_train, y_train)\n",
    "svm_clf.best_params_"
   ]
  },
  {
   "cell_type": "code",
   "execution_count": 13,
   "id": "5aaea62e",
   "metadata": {},
   "outputs": [
    {
     "name": "stdout",
     "output_type": "stream",
     "text": [
      "1.0\n",
      "1.0\n"
     ]
    },
    {
     "data": {
      "image/png": "[encoded data removed]",
      "text/plain": [
       "<Figure size 640x480 with 2 Axes>"
      ]
     },
     "metadata": {},
     "output_type": "display_data"
    }
   ],
   "source": [
    "# Initialize The Discovered Model\n",
    "svm_best = SVC(C = 0.1, kernel = 'poly')\n",
    "\n",
    "# Fit the model\n",
    "svm_best_fit = svm_best.fit(X_train, y_train)\n",
    "\n",
    "# Make predictions based on X_test\n",
    "y_predict = svm_best_fit.predict(X_test)\n",
    "\n",
    "# Test model performance via various Metrics\n",
    "confusion_mtx = confusion_matrix(y_test, y_predict)\n",
    "sns.heatmap(confusion_mtx, linewidth=0.4, annot=True, cmap='viridis')\n",
    "\n",
    "precision = precision_score(y_test, y_predict, average = 'macro')\n",
    "print(precision)\n",
    "\n",
    "recall = recall_score(y_test, y_predict, average = 'macro')\n",
    "print(recall)"
   ]
  }
 ],
 "metadata": {
  "kernelspec": {
   "display_name": "sand_box",
   "language": "python",
   "name": "sand_box"
  },
  "language_info": {
   "codemirror_mode": {
    "name": "ipython",
    "version": 3
   },
   "file_extension": ".py",
   "mimetype": "text/x-python",
   "name": "python",
   "nbconvert_exporter": "python",
   "pygments_lexer": "ipython3",
   "version": "3.10.11"
  }
 },
 "nbformat": 4,
 "nbformat_minor": 5
}
