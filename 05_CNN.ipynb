{
 "cells": [
  {
   "cell_type": "markdown",
   "id": "4107c1d6",
   "metadata": {},
   "source": [
    "# CNN - Covolutional Neural Network"
   ]
  },
  {
   "cell_type": "markdown",
   "id": "9162d1b6",
   "metadata": {},
   "source": [
    "### Import Required Packages"
   ]
  },
  {
   "cell_type": "code",
   "execution_count": 1,
   "id": "90d32015",
   "metadata": {},
   "outputs": [],
   "source": [
    "import tensorflow as tf\n",
    "import numpy as np\n",
    "import matplotlib.pyplot as plt\n",
    "from keras.models import Model\n",
    "from keras.layers import Input, Flatten, Dense, Conv2D, MaxPool2D\n",
    "from keras.optimizers import Adam\n",
    "from keras.utils import to_categorical"
   ]
  },
  {
   "cell_type": "markdown",
   "id": "a51c1ed4",
   "metadata": {},
   "source": [
    "### Importing the Data"
   ]
  },
  {
   "cell_type": "code",
   "execution_count": 2,
   "id": "2e3c77d7",
   "metadata": {},
   "outputs": [],
   "source": [
    "### Load in the sample data\n",
    "mnist = tf.keras.datasets.mnist\n",
    "\n",
    "# Train Test Split\n",
    "(x_train, y_train), (x_test, y_test) = mnist.load_data()"
   ]
  },
  {
   "cell_type": "markdown",
   "id": "072fd355",
   "metadata": {},
   "source": [
    "### Explore the Data"
   ]
  },
  {
   "cell_type": "code",
   "execution_count": 3,
   "id": "a22812b8",
   "metadata": {},
   "outputs": [
    {
     "name": "stdout",
     "output_type": "stream",
     "text": [
      "(60000, 28, 28, 1)\n",
      "(10000, 28, 28, 1)\n",
      "(60000, 10)\n",
      "(10000, 10)\n"
     ]
    }
   ],
   "source": [
    "# Specify the number of possible classes for the multiclass classification\n",
    "class_count = 10\n",
    "\n",
    "# Reshape the data converting the pixel range from 0 to 1\n",
    "x_train = x_train.reshape(-1,28,28,1) / 255\n",
    "x_test = x_test.reshape(-1,28,28,1) / 255\n",
    "print(x_train.shape)\n",
    "print(x_test.shape)\n",
    "\n",
    "# One Hot Encoding of target variables\n",
    "y_train = to_categorical(y_train, num_classes = class_count)\n",
    "y_test = to_categorical(y_test, num_classes = class_count)\n",
    "print(y_train.shape)\n",
    "print(y_test.shape)"
   ]
  },
  {
   "cell_type": "code",
   "execution_count": 4,
   "id": "c1c621d1",
   "metadata": {},
   "outputs": [
    {
     "data": {
      "image/png": "[encoded data removed]",
      "text/plain": [
       "<Figure size 1500x400 with 7 Axes>"
      ]
     },
     "metadata": {},
     "output_type": "display_data"
    }
   ],
   "source": [
    "# Display the tensors as an image\n",
    "\n",
    "# List of the possible classifications\n",
    "numbers = ['zero', 'one', 'two', 'three', 'four', 'five', 'six', 'seven', 'eight', 'nine']\n",
    "\n",
    "image_count = 7\n",
    "fig = plt.figure(figsize=(15,4))\n",
    "fig.subplots_adjust(hspace=0.3, wspace=0.3)\n",
    "\n",
    "\n",
    "for i in range(0,image_count):\n",
    "    img = x_train[i]\n",
    "    ax = fig.add_subplot(1, image_count, i+1)\n",
    "    ax.axis(\"off\")\n",
    "    ax.text(0.5, -0.2, 'label = ' + str(numbers[np.argmax(y_train[i])]), \n",
    "            fontsize=10, ha='center', transform=ax.transAxes)\n",
    "    ax.imshow(img)"
   ]
  },
  {
   "cell_type": "markdown",
   "id": "dc09a45c",
   "metadata": {},
   "source": [
    "### Building the Convolutional Neural Network"
   ]
  },
  {
   "cell_type": "code",
   "execution_count": 5,
   "id": "02e6e7c7",
   "metadata": {},
   "outputs": [
    {
     "name": "stdout",
     "output_type": "stream",
     "text": [
      "Model: \"model\"\n",
      "_________________________________________________________________\n",
      " Layer (type)                Output Shape              Param #   \n",
      "=================================================================\n",
      " input_1 (InputLayer)        [(None, 28, 28, 1)]       0         \n",
      "                                                                 \n",
      " conv2d (Conv2D)             (None, 28, 28, 4)         40        \n",
      "                                                                 \n",
      " max_pooling2d (MaxPooling2D  (None, 14, 14, 4)        0         \n",
      " )                                                               \n",
      "                                                                 \n",
      " conv2d_1 (Conv2D)           (None, 14, 14, 16)        592       \n",
      "                                                                 \n",
      " max_pooling2d_1 (MaxPooling  (None, 7, 7, 16)         0         \n",
      " 2D)                                                             \n",
      "                                                                 \n",
      " flatten (Flatten)           (None, 784)               0         \n",
      "                                                                 \n",
      " dense (Dense)               (None, 100)               78500     \n",
      "                                                                 \n",
      " dense_1 (Dense)             (None, 50)                5050      \n",
      "                                                                 \n",
      " dense_2 (Dense)             (None, 10)                510       \n",
      "                                                                 \n",
      "=================================================================\n",
      "Total params: 84,692\n",
      "Trainable params: 84,692\n",
      "Non-trainable params: 0\n",
      "_________________________________________________________________\n"
     ]
    }
   ],
   "source": [
    "# Input Layer\n",
    "input_img = Input(shape = (28,28,1))\n",
    "\n",
    "# First Convolutional Layer\n",
    "x = Conv2D(4, (3,3), activation = 'relu', padding = 'same')(input_img)\n",
    "x = MaxPool2D((2, 2), padding='same')(x)\n",
    "\n",
    "# Second Convolutional Layer\n",
    "x = Conv2D(16, (3, 3), activation='relu', padding='same')(x)\n",
    "x = MaxPool2D((2, 2), padding='same')(x)\n",
    "\n",
    "# Flattening layer\n",
    "x = Flatten()(x)\n",
    "\n",
    "# First Layer of feed forward NN after flattening\n",
    "x = Dense(100, activation='relu')(x)\n",
    "\n",
    "# Second Layer of feed forward NN\n",
    "x = Dense(50, activation='relu')(x)\n",
    "\n",
    "# Output Layer (softmax activation - for multiclass classification)\n",
    "output_layer = Dense(class_count, activation = 'softmax')(x)\n",
    "\n",
    "# Specify model by combining the input and output layer\n",
    "model = Model(input_img,output_layer)\n",
    "model.summary()"
   ]
  },
  {
   "cell_type": "code",
   "execution_count": 6,
   "id": "0cfa0e61",
   "metadata": {},
   "outputs": [],
   "source": [
    "# Specify the optimizer, learning rate, loss function, and metric\n",
    "optimizer = Adam(learning_rate=0.0005)\n",
    "model.compile(loss='categorical_crossentropy', optimizer=optimizer, metrics=['accuracy'])"
   ]
  },
  {
   "cell_type": "code",
   "execution_count": 7,
   "id": "79d25739",
   "metadata": {},
   "outputs": [
    {
     "name": "stdout",
     "output_type": "stream",
     "text": [
      "Epoch 1/15\n",
      "2000/2000 [==============================] - 10s 5ms/step - loss: 0.2476 - accuracy: 0.9274\n",
      "Epoch 2/15\n",
      "2000/2000 [==============================] - 9s 5ms/step - loss: 0.0771 - accuracy: 0.9759\n",
      "Epoch 3/15\n",
      "2000/2000 [==============================] - 10s 5ms/step - loss: 0.0567 - accuracy: 0.9821\n",
      "Epoch 4/15\n",
      "2000/2000 [==============================] - 11s 5ms/step - loss: 0.0435 - accuracy: 0.9860\n",
      "Epoch 5/15\n",
      "2000/2000 [==============================] - 11s 5ms/step - loss: 0.0357 - accuracy: 0.9885\n",
      "Epoch 6/15\n",
      "2000/2000 [==============================] - 11s 5ms/step - loss: 0.0288 - accuracy: 0.9910\n",
      "Epoch 7/15\n",
      "2000/2000 [==============================] - 11s 5ms/step - loss: 0.0247 - accuracy: 0.9918\n",
      "Epoch 8/15\n",
      "2000/2000 [==============================] - 11s 6ms/step - loss: 0.0203 - accuracy: 0.9932\n",
      "Epoch 9/15\n",
      "2000/2000 [==============================] - 11s 6ms/step - loss: 0.0161 - accuracy: 0.9946\n",
      "Epoch 10/15\n",
      "2000/2000 [==============================] - 11s 5ms/step - loss: 0.0141 - accuracy: 0.9953\n",
      "Epoch 11/15\n",
      "2000/2000 [==============================] - 11s 5ms/step - loss: 0.0123 - accuracy: 0.9958\n",
      "Epoch 12/15\n",
      "2000/2000 [==============================] - 11s 6ms/step - loss: 0.0109 - accuracy: 0.9964\n",
      "Epoch 13/15\n",
      "2000/2000 [==============================] - 11s 6ms/step - loss: 0.0102 - accuracy: 0.9967\n",
      "Epoch 14/15\n",
      "2000/2000 [==============================] - 11s 5ms/step - loss: 0.0078 - accuracy: 0.9974\n",
      "Epoch 15/15\n",
      "2000/2000 [==============================] - 11s 6ms/step - loss: 0.0081 - accuracy: 0.9974\n"
     ]
    },
    {
     "data": {
      "text/plain": [
       "<keras.callbacks.History at 0x21ed8ea8f40>"
      ]
     },
     "execution_count": 7,
     "metadata": {},
     "output_type": "execute_result"
    }
   ],
   "source": [
    "# Fit the model\n",
    "model.fit(x_train, y_train, batch_size=30, epochs=15, shuffle = True)"
   ]
  },
  {
   "cell_type": "code",
   "execution_count": 10,
   "id": "99d12b38",
   "metadata": {},
   "outputs": [
    {
     "name": "stdout",
     "output_type": "stream",
     "text": [
      "313/313 [==============================] - 1s 2ms/step\n"
     ]
    }
   ],
   "source": [
    "# Make Predictions of the test dataset\n",
    "predictions = model.predict(x_test)"
   ]
  },
  {
   "cell_type": "code",
   "execution_count": 11,
   "id": "eff565fd",
   "metadata": {},
   "outputs": [
    {
     "data": {
      "image/png": "[encoded data removed]",
      "text/plain": [
       "<Figure size 1500x400 with 7 Axes>"
      ]
     },
     "metadata": {},
     "output_type": "display_data"
    }
   ],
   "source": [
    "# Display Predictions\n",
    "# Number of examples to show\n",
    "example_count = 7\n",
    "\n",
    "# Select random examples from the test dataset\n",
    "examples = np.random.choice(a = range(len(x_test)), size = example_count)\n",
    "\n",
    "fig = plt.figure(figsize=(15,4))\n",
    "fig.subplots_adjust(hspace=0.3, wspace=0.3)\n",
    "\n",
    "\n",
    "for i in range(0,example_count):\n",
    "    # Isolate the example\n",
    "    img = x_test[i]\n",
    "    \n",
    "    # Display the image\n",
    "    ax = fig.add_subplot(1, example_count, i+1)\n",
    "    ax.axis(\"off\")\n",
    "    \n",
    "    # Find the index associated with the highest probability predicted by the model\n",
    "    ax.text(0.5, -0.2, 'pred = ' + str(numbers[np.argmax(predictions[i])]), fontsize=10, ha='center', transform=ax.transAxes)\n",
    "    \n",
    "    # Find the true label of the data from the y test dataset\n",
    "    ax.text(0.5, -0.5, 'true = ' + str(numbers[np.argmax(y_test[i])]), fontsize=10, ha='center', transform=ax.transAxes)\n",
    "    \n",
    "    # Display the examples\n",
    "    ax.imshow(img)"
   ]
  }
 ],
 "metadata": {
  "kernelspec": {
   "display_name": "sand_box",
   "language": "python",
   "name": "sand_box"
  },
  "language_info": {
   "codemirror_mode": {
    "name": "ipython",
    "version": 3
   },
   "file_extension": ".py",
   "mimetype": "text/x-python",
   "name": "python",
   "nbconvert_exporter": "python",
   "pygments_lexer": "ipython3",
   "version": "3.10.11"
  }
 },
 "nbformat": 4,
 "nbformat_minor": 5
}
