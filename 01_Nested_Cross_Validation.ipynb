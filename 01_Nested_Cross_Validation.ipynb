{
 "cells": [
  {
   "cell_type": "markdown",
   "id": "af428b49",
   "metadata": {},
   "source": [
    "# Nested Cross-Validation\n",
    "\n",
    "- Through nested cross validation we can attempt to discover the best model parameters to use through a grid search which attempts a large range of possiblities and retains the best performing model as measured by a specified metric. In cross validation, multiple train test splits are performed to prevent the possibility of getting a lucky or unlucky split. This technique allows various models to be compared in a more robust way."
   ]
  },
  {
   "cell_type": "markdown",
   "id": "80daed5a",
   "metadata": {},
   "source": [
    "### Import Required Packages"
   ]
  },
  {
   "cell_type": "code",
   "execution_count": 1,
   "id": "727f5bfa",
   "metadata": {},
   "outputs": [],
   "source": [
    "from sklearn.datasets import load_iris\n",
    "from sklearn.tree import DecisionTreeClassifier\n",
    "from sklearn.model_selection import GridSearchCV, cross_val_score\n",
    "import matplotlib.pyplot as plt\n",
    "from sklearn.model_selection import KFold\n",
    "from sklearn.model_selection import train_test_split\n",
    "import pandas as pd"
   ]
  },
  {
   "cell_type": "markdown",
   "id": "0e86f5d4",
   "metadata": {},
   "source": [
    "### Load in the Data"
   ]
  },
  {
   "cell_type": "code",
   "execution_count": 3,
   "id": "4437b7b8",
   "metadata": {},
   "outputs": [
    {
     "data": {
      "text/html": [
       "<div>\n",
       "<style scoped>\n",
       "    .dataframe tbody tr th:only-of-type {\n",
       "        vertical-align: middle;\n",
       "    }\n",
       "\n",
       "    .dataframe tbody tr th {\n",
       "        vertical-align: top;\n",
       "    }\n",
       "\n",
       "    .dataframe thead th {\n",
       "        text-align: right;\n",
       "    }\n",
       "</style>\n",
       "<table border=\"1\" class=\"dataframe\">\n",
       "  <thead>\n",
       "    <tr style=\"text-align: right;\">\n",
       "      <th></th>\n",
       "      <th>Petal_Length</th>\n",
       "      <th>Petal_Width</th>\n",
       "      <th>Sepal_Length</th>\n",
       "      <th>Sepal_Width</th>\n",
       "      <th>Species</th>\n",
       "    </tr>\n",
       "  </thead>\n",
       "  <tbody>\n",
       "    <tr>\n",
       "      <th>0</th>\n",
       "      <td>5.1</td>\n",
       "      <td>3.5</td>\n",
       "      <td>1.4</td>\n",
       "      <td>0.2</td>\n",
       "      <td>0</td>\n",
       "    </tr>\n",
       "    <tr>\n",
       "      <th>1</th>\n",
       "      <td>4.9</td>\n",
       "      <td>3.0</td>\n",
       "      <td>1.4</td>\n",
       "      <td>0.2</td>\n",
       "      <td>0</td>\n",
       "    </tr>\n",
       "    <tr>\n",
       "      <th>2</th>\n",
       "      <td>4.7</td>\n",
       "      <td>3.2</td>\n",
       "      <td>1.3</td>\n",
       "      <td>0.2</td>\n",
       "      <td>0</td>\n",
       "    </tr>\n",
       "    <tr>\n",
       "      <th>3</th>\n",
       "      <td>4.6</td>\n",
       "      <td>3.1</td>\n",
       "      <td>1.5</td>\n",
       "      <td>0.2</td>\n",
       "      <td>0</td>\n",
       "    </tr>\n",
       "    <tr>\n",
       "      <th>4</th>\n",
       "      <td>5.0</td>\n",
       "      <td>3.6</td>\n",
       "      <td>1.4</td>\n",
       "      <td>0.2</td>\n",
       "      <td>0</td>\n",
       "    </tr>\n",
       "  </tbody>\n",
       "</table>\n",
       "</div>"
      ],
      "text/plain": [
       "   Petal_Length  Petal_Width  Sepal_Length  Sepal_Width  Species\n",
       "0           5.1          3.5           1.4          0.2        0\n",
       "1           4.9          3.0           1.4          0.2        0\n",
       "2           4.7          3.2           1.3          0.2        0\n",
       "3           4.6          3.1           1.5          0.2        0\n",
       "4           5.0          3.6           1.4          0.2        0"
      ]
     },
     "execution_count": 3,
     "metadata": {},
     "output_type": "execute_result"
    }
   ],
   "source": [
    "iris = pd.read_csv('iris_sklearn_data.csv') # data was obtianed via sklearn\n",
    "\n",
    "# Visualize the dataframe\n",
    "iris.head()"
   ]
  },
  {
   "cell_type": "code",
   "execution_count": 4,
   "id": "207e1bdd",
   "metadata": {},
   "outputs": [],
   "source": [
    "# Seperate the Features from the Labels\n",
    "X = iris[['Petal_Length', 'Petal_Width', 'Sepal_Length', 'Sepal_Width']]\n",
    "y = iris['Species']"
   ]
  },
  {
   "cell_type": "markdown",
   "id": "1ad3b86d",
   "metadata": {},
   "source": [
    "### Cross Validation Via Gridsearch"
   ]
  },
  {
   "cell_type": "code",
   "execution_count": 5,
   "id": "cc028f22",
   "metadata": {},
   "outputs": [],
   "source": [
    "# Specify the cross validation splits and scoring metric to determine the best model parameters\n",
    "inner_cv = KFold(n_splits = 4, shuffle = True, random_state = 0)\n",
    "outer_cv = KFold(n_splits = 4, shuffle = True, random_state = 0)\n",
    "scoring = 'accuracy'"
   ]
  },
  {
   "cell_type": "code",
   "execution_count": 6,
   "id": "efa348e1",
   "metadata": {},
   "outputs": [
    {
     "name": "stdout",
     "output_type": "stream",
     "text": [
      "Four Nested Scores (Accuracy)\n",
      "[0.97368421 0.92105263 0.97297297 0.94594595]\n",
      "Average Accuracy: 0.9534139402560456\n"
     ]
    }
   ],
   "source": [
    "# Model Creation\n",
    "\n",
    "# Inialize the desired model - in this case a decision tree was used\n",
    "dt = DecisionTreeClassifier()\n",
    "\n",
    "# Specify the parameters you would like the gridsearch to attempt\n",
    "parameters = {'min_samples_split': [2, 3, 4, 5], \n",
    "              'max_depth': [2, 3, 4, 5, 6, 7, 8, 9]}\n",
    "\n",
    "# Specify the classifier with the range of parameters to discover the best model\n",
    "dt_clf = GridSearchCV(estimator = dt, scoring = scoring, param_grid = parameters, cv = inner_cv)\n",
    "\n",
    "# Score the best model accross all four splits created by the outer cross validation layer\n",
    "nested_scores = cross_val_score(estimator = dt_clf, X = X, y = y, cv = outer_cv)\n",
    "\n",
    "# Display all of the scores obtained\n",
    "print('Four Nested Scores (Accuracy)')\n",
    "print(nested_scores)\n",
    "\n",
    "# Calculate the average score across all of the validation splits\n",
    "avg_score = nested_scores.mean()\n",
    "print('Average Accuracy: {}' .format(avg_score))"
   ]
  },
  {
   "cell_type": "code",
   "execution_count": 9,
   "id": "9a6ddc1b",
   "metadata": {},
   "outputs": [
    {
     "data": {
      "text/plain": [
       "{'max_depth': 3, 'min_samples_split': 3}"
      ]
     },
     "execution_count": 9,
     "metadata": {},
     "output_type": "execute_result"
    }
   ],
   "source": [
    "# Display the best parameters discovered\n",
    "X_train, X_test, y_train, y_test = train_test_split(X, y, test_size=0.20, random_state=42)\n",
    "\n",
    "dt_clf.fit(X_train, y_train)\n",
    "dt_clf.best_params_"
   ]
  }
 ],
 "metadata": {
  "kernelspec": {
   "display_name": "sand_box",
   "language": "python",
   "name": "sand_box"
  },
  "language_info": {
   "codemirror_mode": {
    "name": "ipython",
    "version": 3
   },
   "file_extension": ".py",
   "mimetype": "text/x-python",
   "name": "python",
   "nbconvert_exporter": "python",
   "pygments_lexer": "ipython3",
   "version": "3.10.11"
  }
 },
 "nbformat": 4,
 "nbformat_minor": 5
}
